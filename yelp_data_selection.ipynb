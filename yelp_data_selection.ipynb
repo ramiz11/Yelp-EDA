{
  "nbformat": 4,
  "nbformat_minor": 0,
  "metadata": {
    "colab": {
      "name": "yelp data selection.ipynb",
      "provenance": [],
      "collapsed_sections": [],
      "include_colab_link": true
    },
    "kernelspec": {
      "name": "python3",
      "display_name": "Python 3"
    }
  },
  "cells": [
    {
      "cell_type": "markdown",
      "metadata": {
        "id": "view-in-github",
        "colab_type": "text"
      },
      "source": [
        "<a href=\"https://colab.research.google.com/github/ramiz11/Yelp-EDA/blob/main/yelp_data_selection.ipynb\" target=\"_parent\"><img src=\"https://colab.research.google.com/assets/colab-badge.svg\" alt=\"Open In Colab\"/></a>"
      ]
    },
    {
      "cell_type": "markdown",
      "metadata": {
        "id": "HxhOV8D6sLEJ"
      },
      "source": [
        "# *yelp* dataset - data selection for EDA\r\n",
        "This part has been run locally, in order to deal with Github's upload size limitation, which is 25MB per file.\r\n",
        "Here we load the Yelp datasets, create and save a subset = all restaurants in a selected city, and save it for Github upload "
      ]
    },
    {
      "cell_type": "code",
      "metadata": {
        "id": "R84vbr_lnMzq"
      },
      "source": [
        "import pandas as pd\r\n",
        "import json\r\n",
        "from pathlib import Path\r\n",
        "from os.path import join\r\n",
        "import pickle                 "
      ],
      "execution_count": null,
      "outputs": []
    },
    {
      "cell_type": "markdown",
      "metadata": {
        "id": "zM7a3xTtw3LZ"
      },
      "source": [
        "### Read & save the pre-downloaded Yelp Json files "
      ]
    },
    {
      "cell_type": "code",
      "metadata": {
        "id": "zblBMcUoxCow"
      },
      "source": [
        "def load_rows(filepath, skip=0, nrows = None):\r\n",
        "    with open(filepath, encoding='utf8') as json_file:\r\n",
        "        read_count, load_count = 0, 0\r\n",
        "        objs = []\r\n",
        "        line = json_file.readline()\r\n",
        "        while (nrows is None or load_count < nrows) and line:\r\n",
        "            read_count += 1\r\n",
        "            if read_count > skip:\r\n",
        "                obj = json.loads(line)\r\n",
        "                objs.append(obj)\r\n",
        "                load_count += 1\r\n",
        "                if load_count % 10000 == 0:\r\n",
        "                    print(load_count, 'loaded')\r\n",
        "            line = json_file.readline()\r\n",
        "    return pd.DataFrame(objs)\r\n",
        "\r\n",
        "dirname = 'c:/data/yelp/'\r\n",
        "EDA_dir = 'c:/data/yelp/eda/'\r\n",
        "\r\n",
        "business = pd.read_json(Path(dirname, 'yelp_academic_dataset_business.json'), lines=True)\r\n",
        "business.to_pickle(Path(dirname, 'business.pkl'))\r\n",
        "\r\n",
        "checkin = pd.read_json(Path(dirname, 'yelp_academic_dataset_checkin.json'), lines=True)\r\n",
        "checkin.to_pickle(Path(dirname, 'checkin.pkl'))\r\n",
        "\r\n",
        "# read reviews in 2 parts due to its size\r\n",
        "rev1 = load_rows(Path(dirname, 'yelp_academic_dataset_review.json'), 0, 4000000)\r\n",
        "rev2 = load_rows(Path(dirname, 'yelp_academic_dataset_review.json'), 4000000)\r\n",
        "review = pd.concat([rev1, rev2])\r\n",
        "review.to_pickle(Path(dirname, 'review.pkl'))\r\n",
        "\r\n",
        "tip = pd.read_json(Path(dirname, 'yelp_academic_dataset_tip.json'), lines=True)\r\n",
        "tip.to_pickle(Path(dirname, 'tip.pkl'))\r\n",
        "\r\n",
        "user = pd.read_json(Path(dirname, 'yelp_academic_dataset_user.json'), lines=True)\r\n",
        "user.to_pickle(Path(dirname, 'user.pkl')) "
      ],
      "execution_count": null,
      "outputs": []
    },
    {
      "cell_type": "markdown",
      "metadata": {
        "id": "7QgXvt1YxO-N"
      },
      "source": [
        "### Subset the data for our EDA"
      ]
    },
    {
      "cell_type": "markdown",
      "metadata": {
        "id": "cgTuBGYdzWrc"
      },
      "source": [
        "##### Focus on restaurants: \r\n",
        "how many restaurants are there out of all businesses?\r\n"
      ]
    },
    {
      "cell_type": "code",
      "metadata": {
        "id": "D8Pb-o6SxV2P"
      },
      "source": [
        "is_rest = business['categories'].str.contains('Restaurant', na=False)\r\n",
        "is_rest.value_counts(normalize=True, ascending=True).round(2)"
      ],
      "execution_count": null,
      "outputs": []
    },
    {
      "cell_type": "markdown",
      "metadata": {
        "id": "uAce4M6rzrJ9"
      },
      "source": [
        "##### So it's about a third. Let's subset and check the expected files size"
      ]
    },
    {
      "cell_type": "code",
      "metadata": {
        "id": "H3DDgNUWzyRP"
      },
      "source": [
        "business = business[business.categories.str.contains('Restaurant', na=False)]\r\n",
        "df_bytes = business.memory_usage(deep=True).sum()\r\n",
        "print('business rows:', f'{len(business):,}', 'bytes in memory:', f'{df_bytes:,}')"
      ],
      "execution_count": null,
      "outputs": []
    },
    {
      "cell_type": "markdown",
      "metadata": {
        "id": "eWVsPnHF0usC"
      },
      "source": [
        "##### Subset further - look for a medium sized city"
      ]
    },
    {
      "cell_type": "code",
      "metadata": {
        "id": "GDrZkiMc0v-R"
      },
      "source": [
        "business.city.value_counts()"
      ],
      "execution_count": null,
      "outputs": []
    },
    {
      "cell_type": "markdown",
      "metadata": {
        "id": "iZh0GxI80_5H"
      },
      "source": [
        "##### Select Cleveland, subset all dataframes according to its bussinesses and users"
      ]
    },
    {
      "cell_type": "code",
      "metadata": {
        "id": "85GLek7j1B_1"
      },
      "source": [
        "business = business[business.city == 'Cleveland']\r\n",
        "checkin = checkin[checkin.business_id.isin(business.business_id)]\r\n",
        "tip = tip[tip.business_id.isin(business.business_id)]\r\n",
        "review = review[review.business_id.isin(business.business_id)]"
      ],
      "execution_count": null,
      "outputs": []
    },
    {
      "cell_type": "markdown",
      "metadata": {
        "id": "ewmwP6zi9Fn_"
      },
      "source": [
        "#### Reviews is pontentially another big file, check its size..."
      ]
    },
    {
      "cell_type": "code",
      "metadata": {
        "id": "8SnJGgb29FBO"
      },
      "source": [
        "df_bytes = business.memory_usage(deep=True).sum()\r\n",
        "print('review rows:', f'{len(review):,}', 'bytes in memory:', f'{df_bytes:,}')"
      ],
      "execution_count": null,
      "outputs": []
    },
    {
      "cell_type": "markdown",
      "metadata": {
        "id": "dhLw0gNK1kts"
      },
      "source": [
        "##### Reduce reviews size by keeping them for the two most recent years: 2018, 2019\r\n",
        "\r\n"
      ]
    },
    {
      "cell_type": "code",
      "metadata": {
        "id": "sUgP860Q1lpR"
      },
      "source": [
        "review = review[pd.to_datetime(review.date).dt.to_period('Y').astype(str).astype(int).isin([2018, 2019])]"
      ],
      "execution_count": null,
      "outputs": []
    },
    {
      "cell_type": "markdown",
      "metadata": {
        "id": "JNxdK1IW9afO"
      },
      "source": [
        "##### Continue with users data, and check its size"
      ]
    },
    {
      "cell_type": "code",
      "metadata": {
        "id": "Li6gEKJj9sJl"
      },
      "source": [
        "user = user[user.user_id.isin(review.user_id)]\r\n",
        "df_bytes = user.memory_usage(deep=True).sum()\r\n",
        "print('user rows:', f'{len(user):,}', 'bytes in memory:', f'{df_bytes:,}')"
      ],
      "execution_count": null,
      "outputs": []
    },
    {
      "cell_type": "markdown",
      "metadata": {
        "id": "9h-cDY4A9kb9"
      },
      "source": [
        "##### Looks good! save in pickle files to be uploaded to Github"
      ]
    },
    {
      "cell_type": "code",
      "metadata": {
        "id": "xe10cTV--DTe"
      },
      "source": [
        "business.to_pickle(Path(EDA_dir, 'business.pkl'))\r\n",
        "checkin.to_pickle(Path(EDA_dir, 'checkin.pkl'))\r\n",
        "review.to_pickle(Path(EDA_dir, 'review.pkl'))\r\n",
        "tip.to_pickle(Path(EDA_dir, 'tip.pkl'))\r\n",
        "user.to_pickle(Path(EDA_dir, 'user.pkl'))"
      ],
      "execution_count": null,
      "outputs": []
    }
  ]
}